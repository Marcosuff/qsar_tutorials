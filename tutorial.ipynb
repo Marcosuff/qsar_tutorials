{
 "cells": [
  {
   "cell_type": "markdown",
   "metadata": {},
   "source": [
    "# **The drug discovery process**"
   ]
  },
  {
   "cell_type": "markdown",
   "metadata": {},
   "source": [
    "Before we start discussing the practical jargon, let's define bioactivity and why that's interesting for us.\n",
    "Bioactivity is the benefical pharmacological effect of a drug on the organism. This is what drives drug discovery: we need to find bioactive molecules to cure and/or reduce the symptoms of a disease.\n",
    "\n",
    "The pharmaceutical industry (Pharma) is always looking for new and better bioactive molecules to use as prototypes for drugs. After screening millions of molecules, the drug discovery team can choose the most promising ones to start development; which can take years and billions of dollars. \n",
    "\n",
    "The drug discovery process is very long and demands a huge amount of resources, including qualified professionals in multidiciplinary fields and high-end technology. As of 2019, the cost to produce a single drug, from preliminary biological tests to regulatory approval, is estimated at U$ 2 billion. The time gap from  first prototype to the final product is also a problem and it is commonplace to take between 10-15 years. In addition, the marketed drug sales may not return the investments. \n",
    "\n",
    "<img src=\"discovery.png\">\n",
    "\n",
    "[https://www.nature.com/articles/nrd.2017.194]\n",
    "\n",
    "\n",
    "\n",
    "The problem with this process is the number of failures. From 1,000 tested molecules only a handful (in fact less than 1% )are really promissing _**leads**_ for development. Therefore, BigPharma is always looking for strategies to reduce the costs and accelerate the process. Luckly the tools to do just that are available for us."
   ]
  },
  {
   "cell_type": "markdown",
   "metadata": {},
   "source": [
    "# **Computational drug discovery**\n"
   ]
  },
  {
   "cell_type": "markdown",
   "metadata": {},
   "source": [
    "Machines are amazing in doing what humans can't do in a lifetime (or maybe two). What I mean by is that machines are capable of solving specific problems much faster than us by. Imagine you have a dataset of 1,000 images and your task is to classify all images into 3 classes, for example three  breeds of cats. That's pretty straightforward since you just need to look at all images and write down on a piece of paper. But what the dataset contains mixed high and low quality images, or close and far away objects? Well, your performance will probably drop a little bit but you would still be able to classify most of them correctly. The biggest problem arises when the dataset grows from thousands to millions (or even billions) of _**samples**_ on your dataset. While a human might take years to do that by hand, a machine can classify the images with high accuracy in just a few seconds or minutes. \n",
    "\n",
    "The power of computers today and their ability to solve very complex tasks faster than humans are very useful in drug discovery. In fact, BigPharma use them all the time to automatically screen thousands of molecules on different biological assays per day in a method called _**high throughput screening**_. Computers are also valuable to analyse the data and help the researchers find patterns to explain a biological activity or suggest modifications on a chemical structure to boost a biological endpoint.\n",
    "\n",
    "<img src=\"hts.jpg\">\n",
    "\n",
    "\n",
    "But there is another way computers can help us accelerate drug discovery. We could use them to find bioactive molecules even before they were synthetized or tested _in vitro_. How can we do that? Well, we need just 3 things to start with:\n",
    "\n",
    "**1) A computer**\n",
    "\n",
    "**2) An algorithm**\n",
    "\n",
    "**3) Data**\n",
    "\n",
    "\n",
    "<img src=\"ml.png\">\n"
   ]
  },
  {
   "cell_type": "markdown",
   "metadata": {},
   "source": [
    "Let's focus on numbers 2 and 3 first. What kind of data is available and good for use? And what is an algorithm and which one should we use?"
   ]
  },
  {
   "cell_type": "markdown",
   "metadata": {},
   "source": [
    "## Chemical and biological data"
   ]
  },
  {
   "cell_type": "markdown",
   "metadata": {},
   "source": [
    "Using chemical and biological data to solve a specific problem isn't a new field. In fact, the field of **Quantitative Structure Activity-Relationship (QSAR)** is very mature, having been used since at least the 1950's. So what's new? Well, now we have a huge amount of data available in public and private databases; this is what is called Big Data. Any QSAR project starts with data collection and it is very important to select the right kind of data. For instance, if we are trying to model the interactions between a 3D drug with a 3D protein, it is no use to use as input the 1D structures (e.g. sequence of atoms).\n",
    "\n",
    "There are many different databases to collect data but we are going to use just a few of them. This is because they are the most cited, have a vast amount of data and also very good documentation. In practice you would like to use the ones you are most familiar with. Some of the most important databases for QSAR are:\n",
    "\n",
    "1) ChEMBL [https://www.ebi.ac.uk/chembl/g]\n",
    "\n",
    "2) PubChem [https://pubchem.ncbi.nlm.nih.go]\n",
    "\n",
    "3) Protein databank [https://www.rcsb.org/]\n",
    "\n",
    "Feel free to go to each of them and get used to the **Seach engine**.\n",
    "\n",
    "ChEMBL and PubChem store information of molecular structure and biological assays. In both databases you search molecules by name or chemical structure and retrieve the assays they were tested on, if they were active or inactive (based on the projects goals), the amount of activity (e.g. IC50, inhibition constant - pKi etc) and how the assay was conducted.\n",
    "\n",
    "<img src=\"chembl.png\">\n",
    "\n",
    "\n",
    "The Protein databank (PDB) is a great resource to find 3D **protein structures**. On PDB you can also find **protein-ligand complexes**, showing the interactions between a protein (the biological target) and usually a small molecule. Remember the prototypes from drug discovery? During development the research team might be interested in studying how the biological activity happens; which is usually due to the interaction of a small molecule with a protein target on the body. So, when you read about targets try to change that in your head to *proteins*, and protein-ligand with *complex*.\n",
    "\n",
    "<img src=\"pdb.png\">"
   ]
  },
  {
   "cell_type": "markdown",
   "metadata": {},
   "source": [
    "### What kind of information to look for?"
   ]
  },
  {
   "cell_type": "markdown",
   "metadata": {},
   "source": [
    "You entered the database and now what? For starters, you need to use the right terms to define your search. After that you go straight to the most valuable information: **the chemical structure AND the biological activity**.\n",
    "There are many ways to represent chemical structures and we use the most appropriate for a specific task. The way we represent a molecule can be roughly classified as:\n",
    "\n",
    "**A) 1-D methods**: They basically describe  the type of atoms and the bonds between them. It is also possible to include stereochemical information (e.g. cis/trans isomers). The most used example of 1D method is the (**S**implified **M**olecular **I**nput **L**ine **E**ntry **S**ystem - **SMILES**) representation. SMILES is a rule-based representation that is easly learned, with just a small set of rules to define the structure.\n",
    "\n",
    "<img src=\"smiles.jpg\">\n",
    "\n",
    "\n",
    "**B) 2-D methods**: A common way to represent chemical structures is to use a *connection table*. These tables store the coordinates of each atom and the connections (bonds) between them, allowing to produce chemical drawings. Hydrogen atoms may or may not be included and they also may include information about the charges of each atom, the hybridisation states and the bond order. It is a much more complex format than SMILES and can store many different kinds of chemical and biological information.\n",
    "\n",
    "<img src=\"mdl.png\">\n",
    "\n",
    "\n",
    "**C) 3-D methods**: 3D methods are extremely valuable to study the spatial arrangement of atoms in a molecule and how they interact to produce different conformations for a molecule. This type of representation can encode all the informations from previous methods (1D and 2D) and also be used in studies to model the interaction in protein-ligand complexes, calculate quantum chemical properties (e.g HOMO and LUMO energies, eletrostatic potential maps etc) and very complex biological simulations, such as molecular dynamics. \n",
    "\n",
    "\n",
    "<img src=\"3d.jpg\">\n",
    "\n",
    "\n",
    "It is important to say that we can convert between representations using many softwares available for free. You can find a list of some common softwares on Wikipedia [https://en.wikipedia.org/wiki/Molecule_editor]. Probably the most used softwares on the QSAR community are **OpenBabel, MOE and RDKit**.\n",
    "\n"
   ]
  }
 ],
 "metadata": {
  "kernelspec": {
   "display_name": "Python 3",
   "language": "python",
   "name": "python3"
  },
  "language_info": {
   "codemirror_mode": {
    "name": "ipython",
    "version": 3
   },
   "file_extension": ".py",
   "mimetype": "text/x-python",
   "name": "python",
   "nbconvert_exporter": "python",
   "pygments_lexer": "ipython3",
   "version": "3.7.3"
  }
 },
 "nbformat": 4,
 "nbformat_minor": 4
}
